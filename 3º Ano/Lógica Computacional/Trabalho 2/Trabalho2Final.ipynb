{
  "nbformat": 4,
  "nbformat_minor": 0,
  "metadata": {
    "colab": {
      "name": "Trabalho2Final.ipynb",
      "provenance": [],
      "collapsed_sections": []
    },
    "kernelspec": {
      "display_name": "Python 3",
      "name": "python3"
    },
    "language_info": {
      "name": "python"
    }
  },
  "cells": [
    {
      "cell_type": "code",
      "metadata": {
        "colab": {
          "base_uri": "https://localhost:8080/"
        },
        "id": "nxS9it9BnHzS",
        "outputId": "f703a039-61fa-4f59-f5b5-bdbbcca73a00"
      },
      "source": [
        "!pip install ortools"
      ],
      "execution_count": null,
      "outputs": [
        {
          "output_type": "stream",
          "name": "stdout",
          "text": [
            "Requirement already satisfied: ortools in /usr/local/lib/python3.7/dist-packages (9.1.9490)\n",
            "Requirement already satisfied: absl-py>=0.13 in /usr/local/lib/python3.7/dist-packages (from ortools) (1.0.0)\n",
            "Requirement already satisfied: protobuf>=3.18.0 in /usr/local/lib/python3.7/dist-packages (from ortools) (3.19.1)\n",
            "Requirement already satisfied: six in /usr/local/lib/python3.7/dist-packages (from absl-py>=0.13->ortools) (1.15.0)\n"
          ]
        }
      ]
    },
    {
      "cell_type": "code",
      "metadata": {
        "id": "UTNk1eJgnMHu"
      },
      "source": [
        "import networkx as nx\n",
        "import random\n",
        "from ortools.linear_solver import pywraplp\n",
        "import matplotlib.pyplot as plt"
      ],
      "execution_count": null,
      "outputs": []
    },
    {
      "cell_type": "markdown",
      "metadata": {
        "id": "aLlns0mZqfGm"
      },
      "source": [
        "# Trabalho 2\n",
        "\n",
        "Este trabalho foi realizado por:\n",
        "\n",
        "\n",
        "*   João Pedro Goulart - A82643\n",
        "*   Tiago Rodrigues - A87952"
      ]
    },
    {
      "cell_type": "markdown",
      "metadata": {
        "id": "i7ksmOkGqivc"
      },
      "source": [
        "1. Um sistema de tráfego  é representado por um grafo orientado ligado. Os nodos denotam pontos de acesso e  os arcos denotam vias de comunicação só com um sentido.\n",
        "\n",
        "> O grafo tem de ser ligado, o que significa que entre cada par de nodos $\\langle n_1,n_2 \\rangle$ tem de existir um caminho $n_1 \\leadsto n_2$ e um caminho $n_2\\leadsto n_1$."
      ]
    },
    {
      "cell_type": "markdown",
      "metadata": {
        "id": "L8YaQdkgqi3c"
      },
      "source": [
        "a) Gerar aleatoriamente um tal grafo com  $N=32$ nodos.  Cada nodo tem um número aleatório de descendentes no intervalo $\\,1..3\\,$  cujos destinos são distintos entre si do nodo origem."
      ]
    },
    {
      "cell_type": "code",
      "metadata": {
        "colab": {
          "base_uri": "https://localhost:8080/",
          "height": 336
        },
        "id": "nhxBDlqom05C",
        "outputId": "9e855eee-d363-452e-edf6-5be2b03d187d"
      },
      "source": [
        "def gera(n):\n",
        "    l = []\n",
        "    r = 0\n",
        "    while (r == 0):\n",
        "        l = []\n",
        "        for i in range(1,n+1):\n",
        "            l.append(random.randint(1,3))\n",
        "\n",
        "        if nx.is_valid_degree_sequence_havel_hakimi(l):\n",
        "            G = nx.random_degree_sequence_graph(l)\n",
        "            G = nx.convert_node_labels_to_integers(G,first_label=1)\n",
        "\n",
        "            if (nx.is_connected(G)==True):\n",
        "                H = nx.DiGraph()\n",
        "                H = G.to_directed()\n",
        "                if(nx.is_strongly_connected(H)==True):\n",
        "                  r = 1\n",
        "                  return H\n",
        "\n",
        "n =32\n",
        "G=gera(n)\n",
        "print(G)\n",
        "nx.draw(G, with_labels = True,node_size=150,node_color='turquoise')"
      ],
      "execution_count": null,
      "outputs": [
        {
          "output_type": "stream",
          "name": "stdout",
          "text": [
            "DiGraph with 32 nodes and 68 edges\n"
          ]
        },
        {
          "output_type": "display_data",
          "data": {
            "image/png": "[encoded data removed]",
            "text/plain": [
              "<Figure size 432x288 with 1 Axes>"
            ]
          },
          "metadata": {}
        }
      ]
    },
    {
      "cell_type": "markdown",
      "metadata": {
        "id": "1AVr94bEqwSv"
      },
      "source": [
        "b) Pretende-se fazer  manutenção interrompendo  determinadas vias. Determinar o maior número de vias que é possível remover mantendo o grafo ligado."
      ]
    },
    {
      "cell_type": "markdown",
      "metadata": {
        "id": "SS2emflBqxE0"
      },
      "source": [
        "# Desenvolvimento \n",
        "\n",
        "Temos como objetivo gerar um subgrafo 𝐻  de  𝐺 com o menor número possível de arestas pertencentes a G. Devemos manter o número de vértices.\n",
        "\n",
        "Seja $E$ o conjunto de todas as arestas de $G$ e $C_{s,t}$ o conjunto de todos os caminhos simples entre $s$ e $t$\n",
        "\n",
        "Com o auxílio do Or tools trataremos das seguintes condições:\n",
        "\n",
        "\n",
        "1.   Para todos o caminhos de $G$ , se um dado caminho $c$ de origem no nodo $e_s$ e destino $e_t$ está presente no subgrafo, então todas a arestas desse caminho terão de existir no subgrafo:\n",
        "$$\\forall_{e<E} \\cdot \\forall_{c<C} \\cdot \\forall_{e'<c} ( d_{e'} \\, \\geq x_{e}) $$\n",
        "\n",
        "2.   Para todas as arestas  $e\\in E$ existe pelo menos um caminho de origem $e_s$ e destino $e_t$:\n",
        "\n",
        "$$\\forall_{e<E} \\, \\sum_{c<C}\\, x_e \\geq 1$$\n",
        "\n",
        "\n"
      ]
    },
    {
      "cell_type": "markdown",
      "metadata": {
        "id": "KmMBYuqNq6YM"
      },
      "source": [
        "Vamos, então, incluir as condições no nosso código:"
      ]
    },
    {
      "cell_type": "code",
      "metadata": {
        "id": "vrHUMcsCm0_o",
        "colab": {
          "base_uri": "https://localhost:8080/",
          "height": 353
        },
        "outputId": "af6035fe-149f-435b-b28c-4037f2bd8624"
      },
      "source": [
        "def arestas(p): \n",
        "    return [(p[i],p[i+1]) for i in range(len(p)-1)]\n",
        "\n",
        "def geraSub(graph): \n",
        "    sol = pywraplp.Solver.CreateSolver('CP-SAT')\n",
        "    d = {}\n",
        "    x = {} \n",
        "    for e in graph.edges(): # Variável por aresta\n",
        "        d[e] = sol.BoolVar(str(e))\n",
        "    \n",
        "\n",
        "    for s in graph.nodes:\n",
        "        for t in graph.nodes:\n",
        "            \n",
        "            if s!=t: # Para não haver arestas tais que origem = destino\n",
        "              cam = list(nx.all_simple_paths(graph,s,t)) # lista de caminhos possíveis\n",
        "              \n",
        "              for i in range(len(cam)): # Adicionar variáveis\n",
        "                x[i] = sol.BoolVar(str(i) + ',' + str(s)+ ',' + str(t))\n",
        "\n",
        "                for e in arestas(cam[i]): # Arestas do cainho s,t\n",
        "                  sol.Add(d[e]>=x[i])   # Primeira restrição \n",
        "              \n",
        "              sol.Add(sum(x.values()) >= 1)  # Segunda restrição (somatório)\n",
        "              x = {}\n",
        "\n",
        "\n",
        "    # Minimizar o número de arestas necessárias\n",
        "\n",
        "    sol.Minimize(sum(d.values()))\n",
        "    assert(sol.Solve() == pywraplp.Solver.OPTIMAL)\n",
        "\n",
        "    remover = [e for e in graph.edges() if round(d[e].solution_value()) == 0] # Lista com todas as arestas a remover\n",
        "\n",
        "    H = G.copy() # Criar uma cópia do grafo original para não o alterar\n",
        "    for (o,d) in G.edges():\n",
        "      if (o,d) in remover:\n",
        "        H.remove_edge(o,d) # Removemos as arestas selecionadas\n",
        "    if nx.is_strongly_connected(H):\n",
        "      print(\"Grafo fortemente conectado\")\n",
        "    return H\n",
        "\n",
        "\n",
        "H = geraSub(G)\n",
        "nx.draw(H, with_labels = True,node_size=150,node_color ='orange')\n",
        "print(H)"
      ],
      "execution_count": null,
      "outputs": [
        {
          "output_type": "stream",
          "name": "stdout",
          "text": [
            "Grafo fortemente conectado\n",
            "DiGraph with 32 nodes and 43 edges\n"
          ]
        },
        {
          "output_type": "display_data",
          "data": {
            "image/png": "[encoded data removed]",
            "text/plain": [
              "<Figure size 432x288 with 1 Axes>"
            ]
          },
          "metadata": {}
        }
      ]
    },
    {
      "cell_type": "code",
      "metadata": {
        "colab": {
          "base_uri": "https://localhost:8080/"
        },
        "id": "E_nHedvLNlBU",
        "outputId": "eb6ecdb6-1f5c-4dfb-a0a8-317d38f8a3f5"
      },
      "source": [
        "print(\"Existem, portanto, \"+str(G.number_of_edges()-H.number_of_edges())+\" arestas que podem ser eliminadas, correspondendo ao maior número possível de vias que podem ser eliminadas mantendo o grafo ligado.\")"
      ],
      "execution_count": null,
      "outputs": [
        {
          "output_type": "stream",
          "name": "stdout",
          "text": [
            "Existem, portanto, 25 arestas que podem ser eliminadas, correspondendo ao maior número possível de vias que podem ser eliminadas mantendo o grafo ligado.\n"
          ]
        }
      ]
    },
    {
      "cell_type": "markdown",
      "metadata": {
        "id": "xOWYkBgRBwKV"
      },
      "source": [
        "2. Considere-se um circuito booleano $\\,\\mathcal{C}\\,$ com $\\,n\\,$ “wires” de “input” e um único “wire” de output.\n",
        "\n",
        "\n",
        "* O circuito é descrito num bi-grafo com uma classe de nodos representando “gates” e a segunda classe representando “wires”. \n",
        "\n",
        "* Cada nodo contém um campo val cujo conteúdo descreve a semântica desse nodo; para os “wires” o campo val  contém uma variável SCIP; para as “gates” o campo val  contém uma marca bo conjunto and, or,  xor e not,   que indica o tipo de “gate. \n",
        "\n",
        "* Com exceção de not , que é um operador unário, todas as restantes “gates” têm um número arbitrário de “inputs” e um único “output”.\n",
        "\n",
        "* No grafo os arcos com origem numa determinada “gate”  têm destino nos “wires” que são “input” dessa “gate”. Cada “wire” que não é “input” é origem de um único arco que tem como destino a “gate” do qual esse “wire” é “output”."
      ]
    },
    {
      "cell_type": "markdown",
      "metadata": {
        "id": "gyww5Yl2BxBW"
      },
      "source": [
        "a) Escreva um programa que, a partir do número $\\,n\\,$ de “inputs”  e de um parâmetro positivo $\\,\\gamma\\ll 1\\,$ como argumentos,  gere aleatoriamente circuitos com “gates” or, and e not  em que o número de and's é  $\\,\\gamma\\ast\\,$ (número total de nodos)."
      ]
    },
    {
      "cell_type": "code",
      "metadata": {
        "id": "52bFDd1zB6ro"
      },
      "source": [
        "def geracircuito(n,gama):\n",
        "  # Caso em que o input gama é 1\n",
        "  if (gama==1):\n",
        "    ands = 0\n",
        "    ors = 0 \n",
        "    xors = 0\n",
        "    nots = 0\n",
        "  else:\n",
        "    ands = random.randint(1,n)\n",
        "    ors = random.randint(1,n)\n",
        "    xors = random.randint(1,n)\n",
        "    nots = random.randint(1,n)\n",
        "  \n",
        "  G = nx.DiGraph()\n"
      ],
      "execution_count": null,
      "outputs": []
    },
    {
      "cell_type": "markdown",
      "metadata": {
        "id": "64TIOnaFB_C5"
      },
      "source": [
        "b) Escreva um programa Python que leia um circuito arbitrário descrito pelo bi-grafo anterior e formule as restrições (em Programação Inteira) que descrevem as várias “gates” do circuito."
      ]
    },
    {
      "cell_type": "markdown",
      "metadata": {
        "id": "vKIn1LZ5VJ64"
      },
      "source": [
        "Para o código requisitado necessitamos, primeiramente, de formular as restrições. Para tal, estudámos os casos possíveis, ie. o caso de se tratar de um and, um not, um or e um xor. Consideremos, para o efeito, x um nodo \n",
        "\n",
        "\n",
        "\n",
        "1.   Se x é um and\n",
        "\n",
        "\n",
        "1.   Se x é um not então a lista que contém os nodos aos quais x se encontra ligado possui apenas um elemento\n",
        "\n",
        "\n",
        "2.   Se x é um or\n",
        "\n",
        "\n",
        "2.   Se x é um xor\n",
        "\n",
        "\n"
      ]
    },
    {
      "cell_type": "code",
      "metadata": {
        "id": "JPy6aOJmCAQE"
      },
      "source": [
        "def adrestricao(G):\n",
        "  # A função recebe como input o bi-grafo G definido em a)\n",
        "  "
      ],
      "execution_count": null,
      "outputs": []
    },
    {
      "cell_type": "markdown",
      "metadata": {
        "id": "m9QsmOfKCCvx"
      },
      "source": [
        "c) Usando os dois programas anteriores e o sistema SCIP, \n",
        "\n",
        "        i. Escreva um programa que determine um vetor de “inputs” $\\x\\in\\{0,1\\}^n\\$ aceite pelo circuito (i.e. o respetivo output é $1$).\n",
        "        ii. Determine o vetor $x'\\neq x$ , também aceite pelo circuito, que está mais próximo de $x$. "
      ]
    },
    {
      "cell_type": "markdown",
      "metadata": {
        "id": "s501IEpmWAG8"
      },
      "source": [
        "i)"
      ]
    },
    {
      "cell_type": "code",
      "metadata": {
        "id": "yFq5vBlFV9Tn"
      },
      "source": [
        "def vetoraceite(G):\n",
        "\n",
        "  sol = pywraplp.Solver.CreateSolver('SCIP')"
      ],
      "execution_count": null,
      "outputs": []
    },
    {
      "cell_type": "markdown",
      "metadata": {
        "id": "wN8DcHRfWOu-"
      },
      "source": [
        "ii)"
      ]
    },
    {
      "cell_type": "code",
      "metadata": {
        "id": "K7nkZNWgWO4O"
      },
      "source": [
        "def vetormaisprox(G):\n",
        "\n",
        "  sol = pywraplp.Solver.CreateSolver('SCIP')"
      ],
      "execution_count": null,
      "outputs": []
    }
  ]
}