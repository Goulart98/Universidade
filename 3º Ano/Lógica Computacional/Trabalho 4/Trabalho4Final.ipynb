{
  "nbformat": 4,
  "nbformat_minor": 0,
  "metadata": {
    "colab": {
      "name": "Trabalho4Final.ipynb",
      "provenance": [],
      "collapsed_sections": []
    },
    "kernelspec": {
      "name": "python3",
      "display_name": "Python 3"
    },
    "language_info": {
      "name": "python"
    }
  },
  "cells": [
    {
      "cell_type": "markdown",
      "source": [
        "# Trabalho 4\n",
        "\n",
        "Este trabalho foi realizado por:\n",
        "\n",
        "\n",
        "*   João Pedro Goulart - A82643\n",
        "*   Tiago Rodrigues - A87952"
      ],
      "metadata": {
        "id": "Cyv9A5BqP8ux"
      }
    },
    {
      "cell_type": "markdown",
      "source": [
        "Considere o seguinte programa, em Python anotado, para multiplicação de dois inteiros de precisão limitada a 16 bits.  \n",
        "\n",
        "\n",
        "           assume m >= 0 and n >= 0 and r == 0 and x == m and y == n \n",
        "        0: while y > 0:\n",
        "        1:    if y & 1 == 1: \n",
        "                    y , r  = y-1 , r+x\n",
        "        2:    x , y = x<<1  ,  y>>1\n",
        "        3: assert r == m * n"
      ],
      "metadata": {
        "id": "dR_12LeYQAVv"
      }
    },
    {
      "cell_type": "markdown",
      "source": [
        "1. Prove por indução a terminação deste programa"
      ],
      "metadata": {
        "id": "W_i6JRAiQE1f"
      }
    },
    {
      "cell_type": "code",
      "source": [
        "!pip install z3-solver"
      ],
      "metadata": {
        "colab": {
          "base_uri": "https://localhost:8080/"
        },
        "id": "770wG7EHRNRi",
        "outputId": "7064de61-e56f-4fe4-d2b3-7415d2c13880"
      },
      "execution_count": 18,
      "outputs": [
        {
          "output_type": "stream",
          "name": "stdout",
          "text": [
            "Requirement already satisfied: z3-solver in /usr/local/lib/python3.7/dist-packages (4.8.14.0)\n"
          ]
        }
      ]
    },
    {
      "cell_type": "code",
      "source": [
        "from z3 import *\n",
        "import math"
      ],
      "metadata": {
        "id": "CCMTXMqnRcPL"
      },
      "execution_count": 20,
      "outputs": []
    },
    {
      "cell_type": "code",
      "source": [
        "def provel(f):\n",
        "  s = Solver()\n",
        "  s.add(Not(f))\n",
        "  r = s.check()\n",
        "  if r == unsat:\n",
        "    print(\"Provado\")\n",
        "  else:\n",
        "    print(\"Não foi possível provar\")\n",
        "    m = s.model()\n",
        "    for v in m:\n",
        "      print(v,'=',m[v])"
      ],
      "metadata": {
        "id": "3isD_1G_RncH"
      },
      "execution_count": 21,
      "outputs": []
    },
    {
      "cell_type": "code",
      "source": [
        "m, n, r, x, y = Ints('m n r x y')\n",
        "\n",
        "provel(Implies(And(y<=0, 0<=y, y<=n, m*n == x*y+r), r == m*n))"
      ],
      "metadata": {
        "colab": {
          "base_uri": "https://localhost:8080/"
        },
        "id": "D_MllAEBSG9F",
        "outputId": "8c3ed58c-9b3b-46e2-f712-215c3a233348"
      },
      "execution_count": 22,
      "outputs": [
        {
          "output_type": "stream",
          "name": "stdout",
          "text": [
            "Provado\n"
          ]
        }
      ]
    },
    {
      "cell_type": "markdown",
      "source": [
        "``` Python\n",
        "Inicialização do ciclo\n",
        "\n",
        "assume m >= 0 and n >= 0 and r == 0 and x == m and y == n; skip; 0<=n<=y and m*n==x*y+r\n",
        "m >= 0 and n >= 0 -> 0<=n<=y and  m * n == x * y + r [y/n][x/m][r/0]\n",
        "m >= 0 and n >= 0 -> 0<=n<=n and  m * n == m * n + 0\n",
        "\n",
        "pos = r == m * n\n",
        "ciclo = (assume m >= 0 and n >= 0 and r == 0 and x == m and y == n; skip; assert 0<=n<=y\n",
        "and  m * n = x * y + r) and (assume y>0 and 0<=n<=y and  m * n == x * y + r; \n",
        "if y & 1 == 1 then y, r = y-1, r+x ; x , y = x<<1  ,  y>>1;  0<=n<=y \n",
        "and  m * n = x * y + r) and (assume y<=0 and 0<=n<=y and  \n",
        "m * n == x * y + r; skip; assert r == m * n)\n",
        "\n",
        "[while y>0 : if y & 1 == 1 then y , r  = y-1 , r+x ; assert pos; x , y = x<<1 , y>>1; \n",
        "assert pos;]\n",
        "\n",
        "[ciclo; (assume  y & 1 == 1;  y , r  = y-1 , r+x; || assume ~y | 1 != 1;); assert pos;\n",
        "x , y = x<<1   ,  y>>1 ; assert pos]\n",
        "\n",
        "[ciclo; (assume  y & 1 == 1;  y , r  = y-1 , r+x; x , y = x<<1,  y>>1 ; assert pos; ||\n",
        "assume ~y | 1 != 1; assert pos); x , y = x<<1   ,  y>>1 ; assert pos]\n",
        "\n",
        "[ciclo; [y & 1 == 1 -> [ y , r  = y-1 , r+x; assert pos;]] or [~y | 1 != 1; assert pos];\n",
        "x , y = x<<1   ,  y>>1 ; assert pos;]\n",
        "\n",
        "[ciclo; [y & 1 == 1 -> [ y , r  = y-1 , r+x; assert pos;]] or [~y | 1 != 1; assert pos];\n",
        "x , y = x<<1   ,  y>>1 ; assert pos;]\n",
        "\n",
        "[ciclo; [y & 1 == 1 -> [ y , r  = y-1 , r+x; assert pos;]] or [~y | 1 != 1 assert pos];\n",
        "x , y = x<<1   ,  y>>1 ; assert pos;]\n",
        "\n",
        "[ciclo; y & 1 == 1 -> [[ y , r  = y-1 , r+x; assert pos;]] or [~y | 1 != 1; assert pos];\n",
        "x , y = x<<1   ,  y>>1 ; assert pos;]\n",
        "\n",
        "[ciclo; y & 1 == 1 -> [[y=y-1; r=r+x; assert pos;]] or [~y | 1 != 1; assert pos];\n",
        "x , y = x<<1   ,  y>>1 ; assert pos]\n",
        "\n",
        "[ciclo; y & 1 == 1 -> pos[y/(y>>1)][r/r+(x<<1)] or [~y | 1 != 1-> pos];\n",
        "pos[x/x<<1][y/y<<2];]\n",
        "\n",
        " ```"
      ],
      "metadata": {
        "id": "tP8rv4bNYOkV"
      }
    },
    {
      "cell_type": "code",
      "source": [
        "m, n, r, x, y = BitVecs(\"m n r x y\", 16)\n",
        "    \n",
        "pre = And(m >= 0, n >= 0, r == 0, x == m, y == n)\n",
        "pos = (r == m * n)\n",
        "inv = And(0<=y,y<=n,m*n==x*y+r)\n",
        "\n",
        "ifT=Implies(y & 1 == 1, substitute(substitute(substitute(inv, (x, x<<1)), (y, (y-1)>>1)), (r, r+x)))\n",
        "ifF=Implies(Not(y & 1 == 1),substitute(substitute(inv, (x, x<<1)), (y, y>>1)))\n",
        "\n",
        "ciclo = ForAll([x, y, r], Implies(And(y>0, inv), Or(ifT, ifF)))\n",
        "final = Implies(And(Not(y>0), inv), pos)\n",
        "\n",
        "prove(Implies(pre, And(inv, ciclo, final)))"
      ],
      "metadata": {
        "colab": {
          "base_uri": "https://localhost:8080/"
        },
        "id": "MLMPb42aYMSZ",
        "outputId": "4741d015-3ba1-44fe-88a7-f922ab857fc8"
      },
      "execution_count": 23,
      "outputs": [
        {
          "output_type": "stream",
          "name": "stdout",
          "text": [
            "proved\n"
          ]
        }
      ]
    },
    {
      "cell_type": "markdown",
      "source": [
        "Para efetuar esta prova podemos construir um FOTS que modela o programa"
      ],
      "metadata": {
        "id": "wJZozhOjbH-n"
      }
    },
    {
      "cell_type": "code",
      "source": [
        "def declare(i):\n",
        "    state = {}\n",
        "    state[\"x\"] = BitVec(\"x[i]\", 16)\n",
        "    state[\"y\"] = BitVec(\"y[i]\", 16)\n",
        "    state[\"r\"] = BitVec(\"r[i]\", 16)\n",
        "    state[\"m\"] = BitVec(\"m[i]\", 16)\n",
        "    state[\"n\"] = BitVec(\"n[i]\", 16)\n",
        "    state[\"pc\"] = BitVec(\"pc[i]\",16)\n",
        "    \n",
        "    return state"
      ],
      "metadata": {
        "id": "6WtUEdKKbImB"
      },
      "execution_count": 24,
      "outputs": []
    },
    {
      "cell_type": "markdown",
      "source": [
        "O estado inicial do FOTS é determinado pelo predicado init. olhando para a pré-condição deste programa, o predicado init corresponde a:\n",
        "\n",
        "$$pc == 0 \\wedge  m \\geq 0 \\wedge n \\geq 0 \\wedge r == 0 \\wedge x == m \\wedge y == n$$"
      ],
      "metadata": {
        "id": "Nu_prFh9belX"
      }
    },
    {
      "cell_type": "code",
      "source": [
        "def init(state):\n",
        "    return And(state[\"pc\"]==0, state[\"m\"]>=0, state[\"n\"]>=0, state[\"r\"]==0, state[\"x\"]==state[\"m\"], state[\"y\"]==state[\"n\"])"
      ],
      "metadata": {
        "id": "xw3NIHzkbfOQ"
      },
      "execution_count": 25,
      "outputs": []
    },
    {
      "cell_type": "markdown",
      "source": [
        "Prosseguindo, determinaremos a função de transição."
      ],
      "metadata": {
        "id": "Pwmh3u91b3Pd"
      }
    },
    {
      "cell_type": "code",
      "source": [
        "def trans(curr, prox):\n",
        "    pc0_1 = And(curr[\"pc\"]==0, curr[\"y\"]>0, prox[\"x\"]==curr[\"x\"], prox[\"y\"]==curr[\"y\"],\n",
        "                    prox[\"m\"]==curr[\"m\"], prox[\"n\"]==curr[\"n\"], prox[\"r\"]==curr[\"r\"],\n",
        "                    prox[\"pc\"]==1)\n",
        "    pc0_2 = And(curr[\"pc\"]==0, Not(curr[\"y\"]>0), prox[\"x\"]==curr[\"x\"], prox[\"y\"]==curr[\"y\"],\n",
        "                    prox[\"m\"]==curr[\"m\"], prox[\"n\"]==curr[\"n\"], prox[\"r\"]==curr[\"r\"],\n",
        "                    prox[\"pc\"]==3)\n",
        "    \n",
        "    \n",
        "    pc1_1 = And(curr[\"pc\"]==1, curr[\"y\"]&1==1, prox[\"x\"]==curr[\"x\"], prox[\"y\"]==curr[\"y\"]-1,\n",
        "                    prox[\"m\"]==curr[\"m\"], prox[\"n\"]==curr[\"n\"], prox[\"r\"]==curr[\"r\"]+curr[\"x\"],\n",
        "                    prox[\"pc\"]==2)\n",
        "    pc1_2 = And(curr[\"pc\"]==1, Not(curr[\"y\"]&1==1), prox[\"x\"]==curr[\"x\"], prox[\"y\"]==curr[\"y\"],\n",
        "                    prox[\"m\"]==curr[\"m\"], prox[\"n\"]==curr[\"n\"], prox[\"r\"]==curr[\"r\"],\n",
        "                    prox[\"pc\"]==2)\n",
        "    \n",
        "    \n",
        "    pc2 = And(curr[\"pc\"]==2, prox[\"x\"]==curr[\"x\"]<<1, prox[\"y\"]==curr[\"y\"]>>1,\n",
        "                   prox[\"m\"]==curr[\"m\"], prox[\"n\"]==curr[\"n\"], prox[\"r\"]==curr[\"r\"],\n",
        "                   prox[\"pc\"]==0)\n",
        "    \n",
        "    \n",
        "    pc3 = And(curr[\"pc\"]==3, prox[\"x\"]==curr[\"x\"], prox[\"y\"]==curr[\"y\"],\n",
        "                   prox[\"m\"]==curr[\"m\"], prox[\"n\"]==curr[\"n\"], prox[\"r\"]==curr[\"r\"],\n",
        "                   prox[\"pc\"]==curr[\"pc\"], Not(curr[\"y\"]>0))\n",
        "    \n",
        "    return Or(pc0_1, pc0_2, pc1_1, pc1_2, pc2, pc3)"
      ],
      "metadata": {
        "id": "07gSKNC4YhBB"
      },
      "execution_count": 26,
      "outputs": []
    },
    {
      "cell_type": "code",
      "source": [
        "def preCond(state):\n",
        "    return And(state[\"m\"]>=0, state[\"n\"]>=0,state[\"y\"]==state[\"n\"], state[\"x\"]==state[\"m\"], state[\"r\"]==0)\n",
        "\n",
        "def posCond (state):\n",
        "    return (state[\"r\"] == state[\"m\"]*state[\"n\"])\n",
        "\n",
        "def b (state):\n",
        "    return (state[\"y\"] > 0)\n",
        "\n",
        "def unfold(declare, pre,trans, b, pos, n): # n = número de bits da variável y\n",
        "    n = 3 * n # 3 unfolds ao ciclo\n",
        "    state = {i: declare(i) for i in range(n)}\n",
        "    s = Solver()\n",
        "    s.add(pre(state[0]))\n",
        "    for i in range(n-1):\n",
        "        if i % 3 == 0:\n",
        "            s.add(b(state[i]))\n",
        "        s.add(trans(state[i], state[i+1]))\n",
        "    s.add(Not(posCond(state[n-1])))\n",
        "    \n",
        "    if s.check() == sat:\n",
        "        print(\"O programa não está correto.\")\n",
        "        m = solver.model()\n",
        "        \n",
        "        for v in state[0]:\n",
        "            print(v, \"=\", m[state[0][v]])\n",
        "    else:\n",
        "        print(\"O programa está correto.\")"
      ],
      "metadata": {
        "id": "coYDKZrZYkNj"
      },
      "execution_count": 27,
      "outputs": []
    },
    {
      "cell_type": "code",
      "source": [
        "N = 16\n",
        "unfold(declare, preCond,trans, b, posCond, N)"
      ],
      "metadata": {
        "colab": {
          "base_uri": "https://localhost:8080/"
        },
        "id": "RoX9wLmLYwfj",
        "outputId": "6d1a937c-7295-4b32-bdac-ac6b675d2989"
      },
      "execution_count": 28,
      "outputs": [
        {
          "output_type": "stream",
          "name": "stdout",
          "text": [
            "O programa está correto.\n"
          ]
        }
      ]
    },
    {
      "cell_type": "markdown",
      "source": [
        "\n",
        "2. Pretende-se verificar a correção total deste  programa usando a metodologia dos invariantes e a metodologia do “single assignment unfolding”. Para isso, \n",
        "    1. Codifique usando a LPA (linguagem de programas anotadas) a forma recursiva deste programa. \n",
        "    2. Proponha o invariante mais fraco que assegure a correção, codifique-o em SMT e prove a correção.\n",
        "    3. Construa a definição iterativa do “single assignment unfolding”  usando um parâmetro limite $$\\,N\\,$$  e aumentando a pré-condição com a condição \n",
        "                                            $$(n < N)\\,\\land\\,(m<N)$$\n",
        "        O número de iterações vai ser controlado por este parâmetro $$N$$"
      ],
      "metadata": {
        "id": "zvIN-OU5UTrU"
      }
    }
  ]
}