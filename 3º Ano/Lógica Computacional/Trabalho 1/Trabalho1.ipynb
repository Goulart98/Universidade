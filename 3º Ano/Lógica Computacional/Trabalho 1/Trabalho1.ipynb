{
  "nbformat": 4,
  "nbformat_minor": 0,
  "metadata": {
    "colab": {
      "name": "Trabalho1.ipynb",
      "provenance": [],
      "collapsed_sections": []
    },
    "kernelspec": {
      "name": "python3",
      "display_name": "Python 3"
    },
    "language_info": {
      "name": "python"
    }
  },
  "cells": [
    {
      "cell_type": "code",
      "metadata": {
        "id": "rpdOwxcPWsGk",
        "colab": {
          "base_uri": "https://localhost:8080/"
        },
        "outputId": "2df772f9-9bde-4a77-a1c6-beaabcbdf425"
      },
      "source": [
        "!pip install ortools"
      ],
      "execution_count": 9,
      "outputs": [
        {
          "output_type": "stream",
          "name": "stdout",
          "text": [
            "Requirement already satisfied: ortools in /usr/local/lib/python3.7/dist-packages (9.1.9490)\n",
            "Requirement already satisfied: protobuf>=3.18.0 in /usr/local/lib/python3.7/dist-packages (from ortools) (3.19.0)\n",
            "Requirement already satisfied: absl-py>=0.13 in /usr/local/lib/python3.7/dist-packages (from ortools) (0.15.0)\n",
            "Requirement already satisfied: six in /usr/local/lib/python3.7/dist-packages (from absl-py>=0.13->ortools) (1.15.0)\n"
          ]
        }
      ]
    },
    {
      "cell_type": "markdown",
      "metadata": {
        "id": "6JJan5YyYD6t"
      },
      "source": [
        "# Trabalho 1\n",
        "\n",
        "1. Pretende-se construir um horário semanal para o plano de reuniões de projeto de uma “StartUp” de acordo com as seguintes condições:\n",
        "    1. Cada reunião ocupa uma sala (enumeradas 1...S) durante um “slot” (tempo,dia).  Assume-se os dias enumerados 1..D e, em cada dia, os tempos enumerados 1..T.\n",
        "    2.  Cada reunião tem associado um projeto (enumerados 1..P) e um conjunto de participantes. Os diferentes colaboradores são enumerados 1..C.\n",
        "    3. Cada projeto tem associado um conjunto de colaboradores, dos quais um  é o líder. Cada projeto realiza um dado número de reuniões semanais. São “inputs” do problema o conjunto de colaboradores de cada projeto, o seu líder e o número de reuniões semanais.\n",
        "    4. O líder do projeto participa em todas as reuniões do seu projeto; os restantes colaboradores podem ou não participar consoante a sua disponibilidade, num mínimo (“quorum”) de  50 do total de colaboradores do projeto.  A disponibilidade de cada participante, incluindo o lider,  é um conjunto de “slots” (“inputs” do problema). "
      ]
    },
    {
      "cell_type": "markdown",
      "metadata": {
        "id": "-5-H-XJjZh9K"
      },
      "source": [
        "# Análise do problema\n",
        "\n",
        "Condicionantes do problema: \n",
        "1. Cada sala tem, num slot, um e apenas um projeto associado.\n",
        "2. Cada colaborador tem, no máximo, um projeto associado.\n",
        "3. Cada projeto realiza, no máximo, R reuniões por semana.\n",
        "4. Cada projeto tem, no máximo e, para um determinado slot, uma sala.\n",
        "5. Cada líder tem, no máximo, um projeto.\n",
        "\n",
        "Para além disto, o problema tem como limitações mínimas:\n",
        "1. O líder de cada projeto participa em todas as reuniões do respectivo projeto.\n",
        "2. Cada reunião relativa a um projeto terá, no mínimo, a presença de 50% dos colaboradores desse mesmo projeto.\n",
        "3. Cada sala contará com um tempo disponível que estará entre 0 e T.\n",
        "4. Uma reunião só poderá ser efetuada se a disponibilidade dos colaboradores e do líder o permitir.\n"
      ]
    },
    {
      "cell_type": "markdown",
      "metadata": {
        "id": "7lAsBGbHZo0w"
      },
      "source": [
        "# Implementação\n",
        "\n",
        "Começamos por importar a bilioteca de programação linear do OR-Tools e criar uma instância do solver.\n",
        "De seguida inicializamos o solver horário e definimos os valores para as constantes do problema *S*,*D*,*T*,*P* e *C*."
      ]
    },
    {
      "cell_type": "code",
      "metadata": {
        "id": "1r3NDgvhYCOY"
      },
      "source": [
        "from ortools.linear_solver import pywraplp\n",
        "\n",
        "horario = pywraplp.Solver.CreateSolver('SCIP')\n",
        "\n",
        "S, D, T, P, C = 4, 5, 8, 10, 10\n",
        "\n",
        "#Onde:\n",
        "#S - Salas existentes\n",
        "#D - Dias da semana\n",
        "#T - Tempo disponível de sala\n",
        "#P - Número de projetos\n",
        "#C - Número de colaboradores por projeto, líder inclusivé\n",
        "\n",
        "#Número de líderes (equivalnte ao número de projetos existentes)\n",
        "L = 10\n",
        "\n",
        "#Número máximo de reuniões semanais para cada projeto\n",
        "#((T/periodo)*D*S)/P\n",
        "R = 5\n",
        "\n",
        "#Número máximo de reuniões por sala no espaço de um dia\n",
        "#N = T / periodo"
      ],
      "execution_count": 10,
      "outputs": []
    },
    {
      "cell_type": "markdown",
      "metadata": {
        "id": "GOl7kpJsdZ8a"
      },
      "source": [
        "De seguida, declaramos a matriz de alocação X."
      ]
    },
    {
      "cell_type": "code",
      "metadata": {
        "id": "C4eJiEz4gB_5"
      },
      "source": [
        "x = {}\n",
        "for p in range(P):\n",
        "  x[p] = {}\n",
        "  for c in range(C):\n",
        "    x[p][c] = {}\n",
        "    for s in range(S):\n",
        "      x[p][c][s] = {}\n",
        "      for t in range(T):\n",
        "        x[p][c][s][t] = {}\n",
        "        for d in range(D):\n",
        "          x[p][c][s][t][d] = horario.BoolVar('x[%i][%i][%i][%i][%i]' %(p,c,s,t,d))\n",
        "\n",
        "\n",
        "def X(p,c,s,t,d):            # Abreviatura\n",
        "    return x[p][c][s][t][d]\n",
        "   "
      ],
      "execution_count": 11,
      "outputs": []
    },
    {
      "cell_type": "markdown",
      "metadata": {
        "id": "OlWMAfcZhtBI"
      },
      "source": [
        "Avançamos para as adaptações relativas às restrições do problema e à introdução das mesmas no *solver*.\n",
        "\n",
        "Podemos expressar a condição\n",
        "  1. Cada reunião ocupa uma sala durante um slot (tempo,dia)\n",
        "  \n",
        "da seguinte forma:\n",
        "\n",
        "$$\\forall_{p<P} \\quad \\sum_{s<S,t<T,d<D} x_{p,c,s,t,d}  = 1$$"
      ]
    },
    {
      "cell_type": "code",
      "metadata": {
        "id": "wTI-Wu2gRANk"
      },
      "source": [
        "for p in range(P):\n",
        "  horario.Add(sum([X(p,c,s,t,d) for s in range(S) for t in range(T) for d in range(D)]) == 1)"
      ],
      "execution_count": 12,
      "outputs": []
    },
    {
      "cell_type": "markdown",
      "metadata": {
        "id": "mTXMirc1oIJM"
      },
      "source": [
        "Podemos expressar a condição\n",
        "  2. Cada reunião tem associado um projeto e um conjunto de participantes/colaboradores\n",
        "  \n",
        "da seguinte forma:\n",
        "\n",
        "$$\\forall_{p<P} \\cdot \\quad \\sum_{c<C} x_{p,c,s,t,d} = 1$$"
      ]
    },
    {
      "cell_type": "code",
      "metadata": {
        "id": "lX8zwZCP22r-"
      },
      "source": [
        "for p in range(P):\n",
        "  horario.Add(sum([X(p,c,s,t,d) for c in range(C)]) == 1)"
      ],
      "execution_count": 13,
      "outputs": []
    },
    {
      "cell_type": "markdown",
      "metadata": {
        "id": "T3SmpQds229K"
      },
      "source": [
        "Podemos expressar a condição\n",
        "  3. Cada projeto tem associado um conjunto de colaboradores, dos quais um é o líder. Cada projeto realiza um dado número de reuniões semanais. São “inputs” do problema o conjunto de colaboradores de cada projeto, o seu líder e o número de reuniões semanais.\n",
        "  \n",
        "da seguinte forma:\n",
        "\n",
        "$$\\forall_{p<P} \\cdot \\quad \\sum_{l<L} x_{p,c,s,t,d} = 1$$ $$\\land$$ $$\\forall_{p<P} \\cdot \\quad \\sum_{r<R} x_{p,c,s,t,d} \\leq R$$"
      ]
    },
    {
      "cell_type": "code",
      "metadata": {
        "id": "Z1hb6m4J3AQN"
      },
      "source": [
        "for p in range(P):\n",
        "  horario.Add(sum([X(p,c,s,t,d) for l in range(L)]) == 1)\n",
        "\n",
        "for p in range(P):  \n",
        "  horario.Add(sum([X(p,c,s,t,d) for r in range(R)]) <= R)"
      ],
      "execution_count": 14,
      "outputs": []
    },
    {
      "cell_type": "markdown",
      "metadata": {
        "id": "8PbTza0z3BSp"
      },
      "source": [
        "Podemos expressar a condição\n",
        "  4. O líder do projeto participa em todas as reuniões do seu projeto; os restantes colaboradores podem ou não participar consoante a sua disponibilidade, num mínimo (“quorum”) de 50 do total de colaboradores do projeto. A disponibilidade de cada participante, incluindo o lider, é um conjunto de “slots” (“inputs” do problema).\n",
        "  \n",
        "da seguinte forma:\n",
        "\n",
        "(Nota: Para implementar esta condição, adicionámos uma família de variáveis binárias $$y_{c,d}$$ que indicam a disponibilidade dos colaboradores c no dia d, restringindo o número máximo de dias)\n",
        "\n",
        "\n",
        "$$\\forall_{p<P} \\cdot \\quad \\sum_{l<L} x_{p,c,s,t,d} =1$$ $$ \\land $$ $$\\forall_{c<C-1} \\cdot \\quad \\sum_{d<D} y_{c,d} \\leq D$$ $$ \\land  $$ $$\\forall_{p<P} \\sum_{c<C} x_{p,c,s,t,d} \\geq C/2$$\n"
      ]
    },
    {
      "cell_type": "code",
      "metadata": {
        "id": "-K6tO-503sjg",
        "colab": {
          "base_uri": "https://localhost:8080/",
          "height": 351
        },
        "outputId": "f34a502a-a9a7-40f1-e8c4-7ea2270bd6eb"
      },
      "source": [
        "for p in range(P):\n",
        "  horario.Add(sum([X(p,c,s,t,d) for l in range(L)]) == 1)\n",
        "\n",
        "\n",
        "y = {}\n",
        "for c in range(C):  \n",
        "  y[c] = []\n",
        "  y[c]= horario.BoolVar('y[%i]' %(c)) \n",
        "\n",
        "for c in range(C-1):\n",
        "  horario.Add(sum([Y(c,d) for d in range(D)]) <= D)\n",
        "\n",
        "\n",
        "for p in range(P): \n",
        "  horario.Add(sum([X(p,c,s,t,d) for c in range(C)]) >= C/2)\n"
      ],
      "execution_count": 23,
      "outputs": [
        {
          "output_type": "error",
          "ename": "NameError",
          "evalue": "ignored",
          "traceback": [
            "\u001b[0;31m---------------------------------------------------------------------------\u001b[0m",
            "\u001b[0;31mNameError\u001b[0m                                 Traceback (most recent call last)",
            "\u001b[0;32m<ipython-input-23-dc4e46d1f9d3>\u001b[0m in \u001b[0;36m<module>\u001b[0;34m()\u001b[0m\n\u001b[1;32m      9\u001b[0m \u001b[0;34m\u001b[0m\u001b[0m\n\u001b[1;32m     10\u001b[0m \u001b[0;32mfor\u001b[0m \u001b[0mc\u001b[0m \u001b[0;32min\u001b[0m \u001b[0mrange\u001b[0m\u001b[0;34m(\u001b[0m\u001b[0mC\u001b[0m\u001b[0;34m-\u001b[0m\u001b[0;36m1\u001b[0m\u001b[0;34m)\u001b[0m\u001b[0;34m:\u001b[0m\u001b[0;34m\u001b[0m\u001b[0;34m\u001b[0m\u001b[0m\n\u001b[0;32m---> 11\u001b[0;31m   \u001b[0mhorario\u001b[0m\u001b[0;34m.\u001b[0m\u001b[0mAdd\u001b[0m\u001b[0;34m(\u001b[0m\u001b[0msum\u001b[0m\u001b[0;34m(\u001b[0m\u001b[0;34m[\u001b[0m\u001b[0mY\u001b[0m\u001b[0;34m(\u001b[0m\u001b[0mc\u001b[0m\u001b[0;34m,\u001b[0m\u001b[0md\u001b[0m\u001b[0;34m)\u001b[0m \u001b[0;32mfor\u001b[0m \u001b[0md\u001b[0m \u001b[0;32min\u001b[0m \u001b[0mrange\u001b[0m\u001b[0;34m(\u001b[0m\u001b[0mD\u001b[0m\u001b[0;34m)\u001b[0m\u001b[0;34m]\u001b[0m\u001b[0;34m)\u001b[0m \u001b[0;34m<=\u001b[0m \u001b[0mD\u001b[0m\u001b[0;34m)\u001b[0m\u001b[0;34m\u001b[0m\u001b[0;34m\u001b[0m\u001b[0m\n\u001b[0m\u001b[1;32m     12\u001b[0m \u001b[0;34m\u001b[0m\u001b[0m\n\u001b[1;32m     13\u001b[0m \u001b[0;34m\u001b[0m\u001b[0m\n",
            "\u001b[0;32m<ipython-input-23-dc4e46d1f9d3>\u001b[0m in \u001b[0;36m<listcomp>\u001b[0;34m(.0)\u001b[0m\n\u001b[1;32m      9\u001b[0m \u001b[0;34m\u001b[0m\u001b[0m\n\u001b[1;32m     10\u001b[0m \u001b[0;32mfor\u001b[0m \u001b[0mc\u001b[0m \u001b[0;32min\u001b[0m \u001b[0mrange\u001b[0m\u001b[0;34m(\u001b[0m\u001b[0mC\u001b[0m\u001b[0;34m-\u001b[0m\u001b[0;36m1\u001b[0m\u001b[0;34m)\u001b[0m\u001b[0;34m:\u001b[0m\u001b[0;34m\u001b[0m\u001b[0;34m\u001b[0m\u001b[0m\n\u001b[0;32m---> 11\u001b[0;31m   \u001b[0mhorario\u001b[0m\u001b[0;34m.\u001b[0m\u001b[0mAdd\u001b[0m\u001b[0;34m(\u001b[0m\u001b[0msum\u001b[0m\u001b[0;34m(\u001b[0m\u001b[0;34m[\u001b[0m\u001b[0mY\u001b[0m\u001b[0;34m(\u001b[0m\u001b[0mc\u001b[0m\u001b[0;34m,\u001b[0m\u001b[0md\u001b[0m\u001b[0;34m)\u001b[0m \u001b[0;32mfor\u001b[0m \u001b[0md\u001b[0m \u001b[0;32min\u001b[0m \u001b[0mrange\u001b[0m\u001b[0;34m(\u001b[0m\u001b[0mD\u001b[0m\u001b[0;34m)\u001b[0m\u001b[0;34m]\u001b[0m\u001b[0;34m)\u001b[0m \u001b[0;34m<=\u001b[0m \u001b[0mD\u001b[0m\u001b[0;34m)\u001b[0m\u001b[0;34m\u001b[0m\u001b[0;34m\u001b[0m\u001b[0m\n\u001b[0m\u001b[1;32m     12\u001b[0m \u001b[0;34m\u001b[0m\u001b[0m\n\u001b[1;32m     13\u001b[0m \u001b[0;34m\u001b[0m\u001b[0m\n",
            "\u001b[0;31mNameError\u001b[0m: name 'Y' is not defined"
          ]
        }
      ]
    },
    {
      "cell_type": "markdown",
      "metadata": {
        "id": "MApabSww4bbh"
      },
      "source": [
        "\n",
        "2. Da definição do jogo “Sudoku” generalizado para a dimensão N; o problema tradicional corresponde ao caso N=3. O objetivo do Sudoku é preencher uma grelha de N^2xN^2 com inteiros positivos no intervalo 1 até N^2, satisfazendo as seguintes regras:\n",
        "\n",
        "  *  Cada inteiro no intervalo 1 até N^2 ocorre só uma vez em cada coluna, linha e secção NxN.\n",
        "  *  No início do jogo uma fração $$\\,0\\leq \\alpha< 1\\,$$ das N^4 casas da grelha são preenchidas de forma consistente com a regra anterior.\n",
        "  $$\\quad $$"
      ]
    },
    {
      "cell_type": "markdown",
      "metadata": {
        "id": "FWYfeHIg6KUl"
      },
      "source": [
        "a) Construir um programa para inicializar a grelha a partir dos parâmetros $$N \\space e \\space\\alpha$$"
      ]
    },
    {
      "cell_type": "code",
      "metadata": {
        "id": "VJeWSV8N9lYs"
      },
      "source": [
        "from ortools.linear_solver import pywraplp\n",
        "\n",
        "sudoku = pywraplp.Solver.CreateSolver('SCIP')\n",
        "N = 3\n",
        "alfa = 0.2\n",
        "#l - número de linhas\n",
        "#c - número de colunas\n",
        "#e - espaço para inserir um número\n",
        "\n",
        "a = {}\n",
        "for l in range(N):\n",
        "  a[l] = {}\n",
        "  for c in range(N):\n",
        "    a[l][c] = {}\n",
        "    for e in range(N):\n",
        "      a[l][c][e] = sudoku.BoolVar('a[%i][%i][%i]' %(l,c,e))\n",
        "\n",
        "def A(c,l,e):\n",
        "  return a[l][c][e]\n",
        "\n",
        "\n",
        "tabela = [\n",
        "[4, 0, 0, 0, 0, 5, 0, 0, 0],\n",
        "[0, 0, 0, 0, 0, 0, 1, 9, 8],\n",
        "[3, 0, 0, 0, 8, 2, 4, 0, 0],\n",
        "[0, 0, 0, 1, 0, 0, 0, 8, 0],\n",
        "[9, 0, 3, 0, 0, 0, 0, 0, 0],\n",
        "[0, 0, 0, 0, 3, 0, 6, 7, 0],\n",
        "[0, 5, 0, 0, 0, 9, 0, 0, 0],\n",
        "[0, 0, 0, 2, 0, 0, 9, 0, 7],\n",
        "[6, 4, 0, 3, 0, 0, 0, 0, 0],\n",
        "]"
      ],
      "execution_count": 20,
      "outputs": []
    },
    {
      "cell_type": "markdown",
      "metadata": {
        "id": "lDzvFfDo-vr1"
      },
      "source": [
        "\n",
        "\n",
        "*   Cada inteiro no intervalo 1 até N^2 ocorre só uma vez em cada coluna, linha e secção NxN.\n",
        "\n"
      ]
    },
    {
      "cell_type": "markdown",
      "metadata": {
        "id": "nzCdD2qP-3-x"
      },
      "source": [
        "$$\\forall_{1<x<N^2} \\cdot \\quad \\sum_{l<N, c<N, e<N} a_{l,c,e} = 1$$"
      ]
    },
    {
      "cell_type": "code",
      "metadata": {
        "id": "OFsgn2_5-4Kj"
      },
      "source": [
        "for x in range(1,N^2):\n",
        "  sudoku.Add(sum([a(l,c,e) for l in range(N) for c in range(N) for e in range(N)]) ==1)"
      ],
      "execution_count": 19,
      "outputs": []
    },
    {
      "cell_type": "markdown",
      "metadata": {
        "id": "8uP16KQw9kyP"
      },
      "source": [
        "\n",
        "b) Construir soluções do problema para  as combinações de parâmetros $$N\\in\\{3,4,5,6\\}$$ $$\\quad e $$ $$\\,\\alpha \\in \\{\\,0.0\\,,\\,0.2\\,,\\,0.4\\,,\\,0.6\\,\\}$$"
      ]
    },
    {
      "cell_type": "code",
      "metadata": {
        "id": "f0yFfYLJximU"
      },
      "source": [
        ""
      ],
      "execution_count": null,
      "outputs": []
    }
  ]
}